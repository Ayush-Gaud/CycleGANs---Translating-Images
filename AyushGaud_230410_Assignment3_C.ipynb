{
 "cells": [
  {
   "cell_type": "code",
   "execution_count": 1,
   "metadata": {},
   "outputs": [
    {
     "name": "stdout",
     "output_type": "stream",
     "text": [
      "WARNING:tensorflow:From d:\\Python 3.11.6\\Lib\\site-packages\\keras\\src\\losses.py:2976: The name tf.losses.sparse_softmax_cross_entropy is deprecated. Please use tf.compat.v1.losses.sparse_softmax_cross_entropy instead.\n",
      "\n"
     ]
    }
   ],
   "source": [
    "import numpy as np \n",
    "import pandas as pd\n",
    "import tensorflow as tf\n",
    "from sklearn.preprocessing import StandardScaler\n",
    "from sklearn.model_selection import train_test_split\n",
    "from sklearn.metrics import classification_report\n",
    "\n",
    "from keras.models import Sequential\n",
    "from keras.layers import Dense, Dropout, Flatten"
   ]
  },
  {
   "cell_type": "code",
   "execution_count": 2,
   "metadata": {},
   "outputs": [
    {
     "data": {
      "text/html": [
       "<div>\n",
       "<style scoped>\n",
       "    .dataframe tbody tr th:only-of-type {\n",
       "        vertical-align: middle;\n",
       "    }\n",
       "\n",
       "    .dataframe tbody tr th {\n",
       "        vertical-align: top;\n",
       "    }\n",
       "\n",
       "    .dataframe thead th {\n",
       "        text-align: right;\n",
       "    }\n",
       "</style>\n",
       "<table border=\"1\" class=\"dataframe\">\n",
       "  <thead>\n",
       "    <tr style=\"text-align: right;\">\n",
       "      <th></th>\n",
       "      <th>Team1</th>\n",
       "      <th>Team2</th>\n",
       "      <th>Stadium</th>\n",
       "      <th>HostCountry</th>\n",
       "      <th>Team1_Venue</th>\n",
       "      <th>Team2_Venue</th>\n",
       "      <th>Team1_Innings</th>\n",
       "      <th>Team2_Innings</th>\n",
       "      <th>MonthOfMatch</th>\n",
       "      <th>MatchWinner</th>\n",
       "    </tr>\n",
       "  </thead>\n",
       "  <tbody>\n",
       "    <tr>\n",
       "      <th>0</th>\n",
       "      <td>5</td>\n",
       "      <td>4</td>\n",
       "      <td>37</td>\n",
       "      <td>4</td>\n",
       "      <td>Home</td>\n",
       "      <td>Away</td>\n",
       "      <td>Second</td>\n",
       "      <td>First</td>\n",
       "      <td>Dec</td>\n",
       "      <td>4</td>\n",
       "    </tr>\n",
       "    <tr>\n",
       "      <th>1</th>\n",
       "      <td>1</td>\n",
       "      <td>14</td>\n",
       "      <td>84</td>\n",
       "      <td>7</td>\n",
       "      <td>Neutral</td>\n",
       "      <td>Neutral</td>\n",
       "      <td>First</td>\n",
       "      <td>Second</td>\n",
       "      <td>Sep</td>\n",
       "      <td>1</td>\n",
       "    </tr>\n",
       "    <tr>\n",
       "      <th>2</th>\n",
       "      <td>9</td>\n",
       "      <td>15</td>\n",
       "      <td>47</td>\n",
       "      <td>9</td>\n",
       "      <td>Home</td>\n",
       "      <td>Away</td>\n",
       "      <td>First</td>\n",
       "      <td>Second</td>\n",
       "      <td>Feb</td>\n",
       "      <td>9</td>\n",
       "    </tr>\n",
       "    <tr>\n",
       "      <th>3</th>\n",
       "      <td>7</td>\n",
       "      <td>2</td>\n",
       "      <td>102</td>\n",
       "      <td>6</td>\n",
       "      <td>Home</td>\n",
       "      <td>Away</td>\n",
       "      <td>First</td>\n",
       "      <td>Second</td>\n",
       "      <td>Aug</td>\n",
       "      <td>2</td>\n",
       "    </tr>\n",
       "    <tr>\n",
       "      <th>4</th>\n",
       "      <td>6</td>\n",
       "      <td>8</td>\n",
       "      <td>46</td>\n",
       "      <td>5</td>\n",
       "      <td>Home</td>\n",
       "      <td>Away</td>\n",
       "      <td>First</td>\n",
       "      <td>Second</td>\n",
       "      <td>Aug</td>\n",
       "      <td>6</td>\n",
       "    </tr>\n",
       "  </tbody>\n",
       "</table>\n",
       "</div>"
      ],
      "text/plain": [
       "   Team1  Team2  Stadium  HostCountry Team1_Venue Team2_Venue Team1_Innings  \\\n",
       "0      5      4       37            4        Home        Away        Second   \n",
       "1      1     14       84            7     Neutral     Neutral         First   \n",
       "2      9     15       47            9        Home        Away         First   \n",
       "3      7      2      102            6        Home        Away         First   \n",
       "4      6      8       46            5        Home        Away         First   \n",
       "\n",
       "  Team2_Innings MonthOfMatch  MatchWinner  \n",
       "0         First          Dec            4  \n",
       "1        Second          Sep            1  \n",
       "2        Second          Feb            9  \n",
       "3        Second          Aug            2  \n",
       "4        Second          Aug            6  "
      ]
     },
     "execution_count": 2,
     "metadata": {},
     "output_type": "execute_result"
    }
   ],
   "source": [
    "df = pd.read_csv('Train.csv')\n",
    "df.head()"
   ]
  },
  {
   "cell_type": "code",
   "execution_count": 3,
   "metadata": {},
   "outputs": [
    {
     "data": {
      "text/plain": [
       "Team1            0\n",
       "Team2            0\n",
       "Stadium          0\n",
       "HostCountry      0\n",
       "Team1_Venue      0\n",
       "Team2_Venue      0\n",
       "Team1_Innings    0\n",
       "Team2_Innings    0\n",
       "MonthOfMatch     0\n",
       "MatchWinner      0\n",
       "dtype: int64"
      ]
     },
     "execution_count": 3,
     "metadata": {},
     "output_type": "execute_result"
    }
   ],
   "source": [
    "df.isnull().sum()    # no rows with empty/missing values."
   ]
  },
  {
   "cell_type": "code",
   "execution_count": 4,
   "metadata": {},
   "outputs": [
    {
     "data": {
      "text/html": [
       "<div>\n",
       "<style scoped>\n",
       "    .dataframe tbody tr th:only-of-type {\n",
       "        vertical-align: middle;\n",
       "    }\n",
       "\n",
       "    .dataframe tbody tr th {\n",
       "        vertical-align: top;\n",
       "    }\n",
       "\n",
       "    .dataframe thead th {\n",
       "        text-align: right;\n",
       "    }\n",
       "</style>\n",
       "<table border=\"1\" class=\"dataframe\">\n",
       "  <thead>\n",
       "    <tr style=\"text-align: right;\">\n",
       "      <th></th>\n",
       "      <th>Team1</th>\n",
       "      <th>Team2</th>\n",
       "      <th>Stadium</th>\n",
       "      <th>HostCountry</th>\n",
       "      <th>Team1_Venue</th>\n",
       "      <th>Team2_Venue</th>\n",
       "      <th>Team1_Innings</th>\n",
       "      <th>Team2_Innings</th>\n",
       "      <th>MonthOfMatch</th>\n",
       "      <th>MatchWinner</th>\n",
       "    </tr>\n",
       "  </thead>\n",
       "  <tbody>\n",
       "    <tr>\n",
       "      <th>0</th>\n",
       "      <td>5</td>\n",
       "      <td>4</td>\n",
       "      <td>37</td>\n",
       "      <td>4</td>\n",
       "      <td>1</td>\n",
       "      <td>2</td>\n",
       "      <td>1</td>\n",
       "      <td>0</td>\n",
       "      <td>11</td>\n",
       "      <td>4</td>\n",
       "    </tr>\n",
       "    <tr>\n",
       "      <th>1</th>\n",
       "      <td>1</td>\n",
       "      <td>14</td>\n",
       "      <td>84</td>\n",
       "      <td>7</td>\n",
       "      <td>0</td>\n",
       "      <td>0</td>\n",
       "      <td>0</td>\n",
       "      <td>1</td>\n",
       "      <td>8</td>\n",
       "      <td>1</td>\n",
       "    </tr>\n",
       "    <tr>\n",
       "      <th>2</th>\n",
       "      <td>9</td>\n",
       "      <td>15</td>\n",
       "      <td>47</td>\n",
       "      <td>9</td>\n",
       "      <td>1</td>\n",
       "      <td>2</td>\n",
       "      <td>0</td>\n",
       "      <td>1</td>\n",
       "      <td>1</td>\n",
       "      <td>9</td>\n",
       "    </tr>\n",
       "    <tr>\n",
       "      <th>3</th>\n",
       "      <td>7</td>\n",
       "      <td>2</td>\n",
       "      <td>102</td>\n",
       "      <td>6</td>\n",
       "      <td>1</td>\n",
       "      <td>2</td>\n",
       "      <td>0</td>\n",
       "      <td>1</td>\n",
       "      <td>7</td>\n",
       "      <td>2</td>\n",
       "    </tr>\n",
       "    <tr>\n",
       "      <th>4</th>\n",
       "      <td>6</td>\n",
       "      <td>8</td>\n",
       "      <td>46</td>\n",
       "      <td>5</td>\n",
       "      <td>1</td>\n",
       "      <td>2</td>\n",
       "      <td>0</td>\n",
       "      <td>1</td>\n",
       "      <td>7</td>\n",
       "      <td>6</td>\n",
       "    </tr>\n",
       "  </tbody>\n",
       "</table>\n",
       "</div>"
      ],
      "text/plain": [
       "   Team1  Team2  Stadium  HostCountry  Team1_Venue  Team2_Venue  \\\n",
       "0      5      4       37            4            1            2   \n",
       "1      1     14       84            7            0            0   \n",
       "2      9     15       47            9            1            2   \n",
       "3      7      2      102            6            1            2   \n",
       "4      6      8       46            5            1            2   \n",
       "\n",
       "   Team1_Innings  Team2_Innings  MonthOfMatch  MatchWinner  \n",
       "0              1              0            11            4  \n",
       "1              0              1             8            1  \n",
       "2              0              1             1            9  \n",
       "3              0              1             7            2  \n",
       "4              0              1             7            6  "
      ]
     },
     "execution_count": 4,
     "metadata": {},
     "output_type": "execute_result"
    }
   ],
   "source": [
    "df.replace({\"Team1_Venue\":{'Neutral':0, 'Home':1, 'Away':2}}, inplace=True)\n",
    "df.replace({\"Team2_Venue\":{'Neutral':0, 'Home':1, 'Away':2}}, inplace=True)\n",
    "df.replace({\"Team1_Innings\":{'First':0, 'Second':1}}, inplace=True)\n",
    "df.replace({\"Team2_Innings\":{'First':0, 'Second':1}}, inplace=True)\n",
    "df.replace({\"MonthOfMatch\":{'Jan':0, 'Feb':1, 'Mar':2, 'Apr':3, 'May':4, 'Jun':5, 'Jul':6, 'Aug':7, 'Sep':8, 'Oct':9, 'Nov':10, 'Dec':11}}, inplace=True)\n",
    "\n",
    "# Converting everything to numbers as our model wouldn't understand strings.\n",
    "df.head()"
   ]
  },
  {
   "cell_type": "code",
   "execution_count": 5,
   "metadata": {},
   "outputs": [],
   "source": [
    "X = df.drop(columns=['MatchWinner'], axis=1)    # feature matrix\n",
    "y = df['MatchWinner']                 # target variable"
   ]
  },
  {
   "cell_type": "code",
   "execution_count": 6,
   "metadata": {},
   "outputs": [],
   "source": [
    "scaler = StandardScaler()"
   ]
  },
  {
   "cell_type": "code",
   "execution_count": 7,
   "metadata": {},
   "outputs": [],
   "source": [
    "X = scaler.fit_transform(X)"
   ]
  },
  {
   "cell_type": "code",
   "execution_count": 8,
   "metadata": {},
   "outputs": [
    {
     "data": {
      "text/plain": [
       "((2508, 9), (2508,))"
      ]
     },
     "execution_count": 8,
     "metadata": {},
     "output_type": "execute_result"
    }
   ],
   "source": [
    "X.shape, y.shape"
   ]
  },
  {
   "cell_type": "code",
   "execution_count": 9,
   "metadata": {},
   "outputs": [],
   "source": [
    "X_test = X[2108:]\n",
    "y_test = y[2108:]"
   ]
  },
  {
   "cell_type": "code",
   "execution_count": 10,
   "metadata": {},
   "outputs": [
    {
     "data": {
      "text/plain": [
       "((400, 9), (400,))"
      ]
     },
     "execution_count": 10,
     "metadata": {},
     "output_type": "execute_result"
    }
   ],
   "source": [
    "X_test.shape, y_test.shape"
   ]
  },
  {
   "cell_type": "code",
   "execution_count": 11,
   "metadata": {},
   "outputs": [],
   "source": [
    "X_train, X_val, y_train, y_val = train_test_split(X[:2108], y[:2108], test_size=0.2, random_state=42)"
   ]
  },
  {
   "cell_type": "code",
   "execution_count": 12,
   "metadata": {},
   "outputs": [
    {
     "data": {
      "text/plain": [
       "((1686, 9), (422, 9), (1686,), (422,))"
      ]
     },
     "execution_count": 12,
     "metadata": {},
     "output_type": "execute_result"
    }
   ],
   "source": [
    "X_train.shape, X_val.shape, y_train.shape, y_val.shape "
   ]
  },
  {
   "cell_type": "code",
   "execution_count": 13,
   "metadata": {},
   "outputs": [
    {
     "name": "stdout",
     "output_type": "stream",
     "text": [
      "[9]\n"
     ]
    }
   ],
   "source": [
    "input_shape = [X_train.shape[1]]\n",
    "print(input_shape)"
   ]
  },
  {
   "cell_type": "code",
   "execution_count": 14,
   "metadata": {},
   "outputs": [
    {
     "name": "stdout",
     "output_type": "stream",
     "text": [
      "16\n"
     ]
    }
   ],
   "source": [
    "output_shape = y.nunique()\n",
    "print(output_shape)"
   ]
  },
  {
   "cell_type": "code",
   "execution_count": 15,
   "metadata": {},
   "outputs": [
    {
     "name": "stdout",
     "output_type": "stream",
     "text": [
      "WARNING:tensorflow:From d:\\Python 3.11.6\\Lib\\site-packages\\keras\\src\\backend.py:873: The name tf.get_default_graph is deprecated. Please use tf.compat.v1.get_default_graph instead.\n",
      "\n"
     ]
    }
   ],
   "source": [
    "model = Sequential()\n",
    "model.add(Flatten(input_shape = input_shape))\n",
    "model.add(Dense(128, activation = 'relu'))\n",
    "model.add(Dropout(0.25))\n",
    "model.add(Dense(256, activation = 'relu'))\n",
    "model.add(Dropout(0.5))\n",
    "model.add(Dense(output_shape, activation = 'softmax'))"
   ]
  },
  {
   "cell_type": "code",
   "execution_count": 16,
   "metadata": {},
   "outputs": [
    {
     "name": "stdout",
     "output_type": "stream",
     "text": [
      "WARNING:tensorflow:From d:\\Python 3.11.6\\Lib\\site-packages\\keras\\src\\optimizers\\__init__.py:309: The name tf.train.Optimizer is deprecated. Please use tf.compat.v1.train.Optimizer instead.\n",
      "\n"
     ]
    }
   ],
   "source": [
    "model.compile(optimizer='adam', metrics=['accuracy'], loss='sparse_categorical_crossentropy')"
   ]
  },
  {
   "cell_type": "code",
   "execution_count": 17,
   "metadata": {},
   "outputs": [
    {
     "name": "stdout",
     "output_type": "stream",
     "text": [
      "Epoch 1/100\n",
      "WARNING:tensorflow:From d:\\Python 3.11.6\\Lib\\site-packages\\keras\\src\\utils\\tf_utils.py:492: The name tf.ragged.RaggedTensorValue is deprecated. Please use tf.compat.v1.ragged.RaggedTensorValue instead.\n",
      "\n",
      "WARNING:tensorflow:From d:\\Python 3.11.6\\Lib\\site-packages\\keras\\src\\engine\\base_layer_utils.py:384: The name tf.executing_eagerly_outside_functions is deprecated. Please use tf.compat.v1.executing_eagerly_outside_functions instead.\n",
      "\n",
      "36/36 [==============================] - 1s 13ms/step - loss: 2.5065 - accuracy: 0.1673 - val_loss: 2.2643 - val_accuracy: 0.2417\n",
      "Epoch 2/100\n",
      "36/36 [==============================] - 0s 4ms/step - loss: 2.2086 - accuracy: 0.2456 - val_loss: 2.1519 - val_accuracy: 0.2488\n",
      "Epoch 3/100\n",
      "36/36 [==============================] - 0s 4ms/step - loss: 2.1360 - accuracy: 0.2598 - val_loss: 2.0961 - val_accuracy: 0.2773\n",
      "Epoch 4/100\n",
      "36/36 [==============================] - 0s 4ms/step - loss: 2.0740 - accuracy: 0.2805 - val_loss: 2.0635 - val_accuracy: 0.2938\n",
      "Epoch 5/100\n",
      "36/36 [==============================] - 0s 3ms/step - loss: 2.0323 - accuracy: 0.2888 - val_loss: 2.0439 - val_accuracy: 0.3081\n",
      "Epoch 6/100\n",
      "36/36 [==============================] - 0s 3ms/step - loss: 2.0168 - accuracy: 0.2942 - val_loss: 2.0161 - val_accuracy: 0.3318\n",
      "Epoch 7/100\n",
      "36/36 [==============================] - 0s 3ms/step - loss: 1.9869 - accuracy: 0.3167 - val_loss: 1.9969 - val_accuracy: 0.3649\n",
      "Epoch 8/100\n",
      "36/36 [==============================] - 44s 1s/step - loss: 1.9617 - accuracy: 0.3138 - val_loss: 1.9739 - val_accuracy: 0.3626\n",
      "Epoch 9/100\n",
      "36/36 [==============================] - 0s 4ms/step - loss: 1.9242 - accuracy: 0.3416 - val_loss: 1.9517 - val_accuracy: 0.3673\n",
      "Epoch 10/100\n",
      "36/36 [==============================] - 0s 3ms/step - loss: 1.9228 - accuracy: 0.3505 - val_loss: 1.9329 - val_accuracy: 0.3649\n",
      "Epoch 11/100\n",
      "36/36 [==============================] - 0s 4ms/step - loss: 1.9144 - accuracy: 0.3369 - val_loss: 1.9194 - val_accuracy: 0.3626\n",
      "Epoch 12/100\n",
      "36/36 [==============================] - 0s 8ms/step - loss: 1.8959 - accuracy: 0.3470 - val_loss: 1.9044 - val_accuracy: 0.3626\n",
      "Epoch 13/100\n",
      "36/36 [==============================] - 0s 9ms/step - loss: 1.8598 - accuracy: 0.3375 - val_loss: 1.8809 - val_accuracy: 0.3602\n",
      "Epoch 14/100\n",
      "36/36 [==============================] - 1s 15ms/step - loss: 1.8448 - accuracy: 0.3588 - val_loss: 1.8548 - val_accuracy: 0.3815\n",
      "Epoch 15/100\n",
      "36/36 [==============================] - 0s 11ms/step - loss: 1.8335 - accuracy: 0.3636 - val_loss: 1.8405 - val_accuracy: 0.3815\n",
      "Epoch 16/100\n",
      "36/36 [==============================] - 0s 8ms/step - loss: 1.8297 - accuracy: 0.3523 - val_loss: 1.8307 - val_accuracy: 0.3886\n",
      "Epoch 17/100\n",
      "36/36 [==============================] - 0s 6ms/step - loss: 1.8012 - accuracy: 0.3754 - val_loss: 1.8084 - val_accuracy: 0.3791\n",
      "Epoch 18/100\n",
      "36/36 [==============================] - 0s 6ms/step - loss: 1.8113 - accuracy: 0.3577 - val_loss: 1.7954 - val_accuracy: 0.4005\n",
      "Epoch 19/100\n",
      "36/36 [==============================] - 0s 5ms/step - loss: 1.7595 - accuracy: 0.3790 - val_loss: 1.7809 - val_accuracy: 0.4123\n",
      "Epoch 20/100\n",
      "36/36 [==============================] - 0s 4ms/step - loss: 1.7362 - accuracy: 0.3950 - val_loss: 1.7677 - val_accuracy: 0.4076\n",
      "Epoch 21/100\n",
      "36/36 [==============================] - 0s 5ms/step - loss: 1.7572 - accuracy: 0.3749 - val_loss: 1.7365 - val_accuracy: 0.4171\n",
      "Epoch 22/100\n",
      "36/36 [==============================] - 0s 5ms/step - loss: 1.7316 - accuracy: 0.3885 - val_loss: 1.7280 - val_accuracy: 0.4289\n",
      "Epoch 23/100\n",
      "36/36 [==============================] - 0s 5ms/step - loss: 1.6982 - accuracy: 0.4009 - val_loss: 1.7170 - val_accuracy: 0.4028\n",
      "Epoch 24/100\n",
      "36/36 [==============================] - 0s 4ms/step - loss: 1.6856 - accuracy: 0.3992 - val_loss: 1.6932 - val_accuracy: 0.4336\n",
      "Epoch 25/100\n",
      "36/36 [==============================] - 0s 4ms/step - loss: 1.7079 - accuracy: 0.3820 - val_loss: 1.6827 - val_accuracy: 0.4242\n",
      "Epoch 26/100\n",
      "36/36 [==============================] - 0s 4ms/step - loss: 1.6687 - accuracy: 0.4146 - val_loss: 1.6740 - val_accuracy: 0.4194\n",
      "Epoch 27/100\n",
      "36/36 [==============================] - 0s 6ms/step - loss: 1.6584 - accuracy: 0.4045 - val_loss: 1.6604 - val_accuracy: 0.4336\n",
      "Epoch 28/100\n",
      "36/36 [==============================] - 0s 4ms/step - loss: 1.6462 - accuracy: 0.4051 - val_loss: 1.6526 - val_accuracy: 0.4408\n",
      "Epoch 29/100\n",
      "36/36 [==============================] - 0s 5ms/step - loss: 1.6229 - accuracy: 0.4069 - val_loss: 1.6355 - val_accuracy: 0.4384\n",
      "Epoch 30/100\n",
      "36/36 [==============================] - 0s 6ms/step - loss: 1.6327 - accuracy: 0.4051 - val_loss: 1.6226 - val_accuracy: 0.4336\n",
      "Epoch 31/100\n",
      "36/36 [==============================] - 0s 4ms/step - loss: 1.6116 - accuracy: 0.4128 - val_loss: 1.6239 - val_accuracy: 0.4360\n",
      "Epoch 32/100\n",
      "36/36 [==============================] - 0s 5ms/step - loss: 1.6017 - accuracy: 0.4181 - val_loss: 1.6054 - val_accuracy: 0.4194\n",
      "Epoch 33/100\n",
      "36/36 [==============================] - 0s 4ms/step - loss: 1.5951 - accuracy: 0.4075 - val_loss: 1.6059 - val_accuracy: 0.4313\n",
      "Epoch 34/100\n",
      "36/36 [==============================] - 0s 4ms/step - loss: 1.6067 - accuracy: 0.4045 - val_loss: 1.5819 - val_accuracy: 0.4479\n",
      "Epoch 35/100\n",
      "36/36 [==============================] - 0s 5ms/step - loss: 1.5649 - accuracy: 0.4229 - val_loss: 1.5863 - val_accuracy: 0.4384\n",
      "Epoch 36/100\n",
      "36/36 [==============================] - 0s 4ms/step - loss: 1.5765 - accuracy: 0.4164 - val_loss: 1.5615 - val_accuracy: 0.4621\n",
      "Epoch 37/100\n",
      "36/36 [==============================] - 0s 4ms/step - loss: 1.5497 - accuracy: 0.4460 - val_loss: 1.5603 - val_accuracy: 0.4621\n",
      "Epoch 38/100\n",
      "36/36 [==============================] - 0s 3ms/step - loss: 1.5413 - accuracy: 0.4377 - val_loss: 1.5633 - val_accuracy: 0.4242\n",
      "Epoch 39/100\n",
      "36/36 [==============================] - 0s 4ms/step - loss: 1.5517 - accuracy: 0.4442 - val_loss: 1.5458 - val_accuracy: 0.4550\n",
      "Epoch 40/100\n",
      "36/36 [==============================] - 0s 3ms/step - loss: 1.5056 - accuracy: 0.4466 - val_loss: 1.5457 - val_accuracy: 0.4692\n",
      "Epoch 41/100\n",
      "36/36 [==============================] - 0s 4ms/step - loss: 1.5439 - accuracy: 0.4330 - val_loss: 1.5335 - val_accuracy: 0.4573\n",
      "Epoch 42/100\n",
      "36/36 [==============================] - 0s 3ms/step - loss: 1.5347 - accuracy: 0.4259 - val_loss: 1.5370 - val_accuracy: 0.4668\n",
      "Epoch 43/100\n",
      "36/36 [==============================] - 0s 3ms/step - loss: 1.5175 - accuracy: 0.4235 - val_loss: 1.5318 - val_accuracy: 0.4668\n",
      "Epoch 44/100\n",
      "36/36 [==============================] - 0s 3ms/step - loss: 1.5127 - accuracy: 0.4395 - val_loss: 1.5282 - val_accuracy: 0.4763\n",
      "Epoch 45/100\n",
      "36/36 [==============================] - 0s 3ms/step - loss: 1.5033 - accuracy: 0.4282 - val_loss: 1.5122 - val_accuracy: 0.4739\n",
      "Epoch 46/100\n",
      "36/36 [==============================] - 0s 4ms/step - loss: 1.4704 - accuracy: 0.4484 - val_loss: 1.5071 - val_accuracy: 0.4810\n",
      "Epoch 47/100\n",
      "36/36 [==============================] - 0s 4ms/step - loss: 1.4854 - accuracy: 0.4437 - val_loss: 1.5205 - val_accuracy: 0.4573\n",
      "Epoch 48/100\n",
      "36/36 [==============================] - 0s 3ms/step - loss: 1.4807 - accuracy: 0.4454 - val_loss: 1.5112 - val_accuracy: 0.4810\n",
      "Epoch 49/100\n",
      "36/36 [==============================] - 0s 3ms/step - loss: 1.4874 - accuracy: 0.4371 - val_loss: 1.4966 - val_accuracy: 0.4692\n",
      "Epoch 50/100\n",
      "36/36 [==============================] - 0s 3ms/step - loss: 1.4574 - accuracy: 0.4466 - val_loss: 1.4911 - val_accuracy: 0.4810\n",
      "Epoch 51/100\n",
      "36/36 [==============================] - 0s 3ms/step - loss: 1.4576 - accuracy: 0.4597 - val_loss: 1.4788 - val_accuracy: 0.4834\n",
      "Epoch 52/100\n",
      "36/36 [==============================] - 0s 3ms/step - loss: 1.4454 - accuracy: 0.4620 - val_loss: 1.4816 - val_accuracy: 0.4739\n",
      "Epoch 53/100\n",
      "36/36 [==============================] - 0s 3ms/step - loss: 1.4455 - accuracy: 0.4591 - val_loss: 1.4791 - val_accuracy: 0.4929\n",
      "Epoch 54/100\n",
      "36/36 [==============================] - 0s 4ms/step - loss: 1.4442 - accuracy: 0.4579 - val_loss: 1.4671 - val_accuracy: 0.4905\n",
      "Epoch 55/100\n",
      "36/36 [==============================] - 0s 4ms/step - loss: 1.4501 - accuracy: 0.4490 - val_loss: 1.4757 - val_accuracy: 0.4810\n",
      "Epoch 56/100\n",
      "36/36 [==============================] - 0s 3ms/step - loss: 1.4198 - accuracy: 0.4638 - val_loss: 1.4700 - val_accuracy: 0.4953\n",
      "Epoch 57/100\n",
      "36/36 [==============================] - 0s 4ms/step - loss: 1.4272 - accuracy: 0.4680 - val_loss: 1.4594 - val_accuracy: 0.4882\n",
      "Epoch 58/100\n",
      "36/36 [==============================] - 0s 3ms/step - loss: 1.4313 - accuracy: 0.4692 - val_loss: 1.4520 - val_accuracy: 0.4953\n",
      "Epoch 59/100\n",
      "36/36 [==============================] - 0s 3ms/step - loss: 1.4178 - accuracy: 0.4739 - val_loss: 1.4500 - val_accuracy: 0.4953\n",
      "Epoch 60/100\n",
      "36/36 [==============================] - 0s 4ms/step - loss: 1.3992 - accuracy: 0.4603 - val_loss: 1.4501 - val_accuracy: 0.5166\n",
      "Epoch 61/100\n",
      "36/36 [==============================] - 0s 4ms/step - loss: 1.4059 - accuracy: 0.4626 - val_loss: 1.4506 - val_accuracy: 0.4882\n",
      "Epoch 62/100\n",
      "36/36 [==============================] - 0s 4ms/step - loss: 1.3971 - accuracy: 0.4816 - val_loss: 1.4428 - val_accuracy: 0.5024\n",
      "Epoch 63/100\n",
      "36/36 [==============================] - 0s 3ms/step - loss: 1.3960 - accuracy: 0.4668 - val_loss: 1.4450 - val_accuracy: 0.5071\n",
      "Epoch 64/100\n",
      "36/36 [==============================] - 0s 3ms/step - loss: 1.3733 - accuracy: 0.4751 - val_loss: 1.4434 - val_accuracy: 0.5095\n",
      "Epoch 65/100\n",
      "36/36 [==============================] - 0s 3ms/step - loss: 1.3866 - accuracy: 0.4567 - val_loss: 1.4394 - val_accuracy: 0.4953\n",
      "Epoch 66/100\n",
      "36/36 [==============================] - 0s 3ms/step - loss: 1.3912 - accuracy: 0.4591 - val_loss: 1.4293 - val_accuracy: 0.5024\n",
      "Epoch 67/100\n",
      "36/36 [==============================] - 0s 3ms/step - loss: 1.3787 - accuracy: 0.4846 - val_loss: 1.4195 - val_accuracy: 0.5190\n",
      "Epoch 68/100\n",
      "36/36 [==============================] - 0s 3ms/step - loss: 1.3887 - accuracy: 0.4609 - val_loss: 1.4235 - val_accuracy: 0.5024\n",
      "Epoch 69/100\n",
      "36/36 [==============================] - 0s 4ms/step - loss: 1.3902 - accuracy: 0.4638 - val_loss: 1.4282 - val_accuracy: 0.5000\n",
      "Epoch 70/100\n",
      "36/36 [==============================] - 0s 3ms/step - loss: 1.3796 - accuracy: 0.4686 - val_loss: 1.4236 - val_accuracy: 0.5095\n",
      "Epoch 71/100\n",
      "36/36 [==============================] - 0s 3ms/step - loss: 1.3761 - accuracy: 0.4668 - val_loss: 1.4219 - val_accuracy: 0.4953\n",
      "Epoch 72/100\n",
      "36/36 [==============================] - 0s 3ms/step - loss: 1.3830 - accuracy: 0.4810 - val_loss: 1.4132 - val_accuracy: 0.5047\n",
      "Epoch 73/100\n",
      "36/36 [==============================] - 0s 3ms/step - loss: 1.3527 - accuracy: 0.4674 - val_loss: 1.4047 - val_accuracy: 0.4905\n",
      "Epoch 74/100\n",
      "36/36 [==============================] - 0s 3ms/step - loss: 1.3502 - accuracy: 0.4775 - val_loss: 1.4027 - val_accuracy: 0.4929\n",
      "Epoch 75/100\n",
      "36/36 [==============================] - 0s 3ms/step - loss: 1.3383 - accuracy: 0.4852 - val_loss: 1.4014 - val_accuracy: 0.5166\n",
      "Epoch 76/100\n",
      "36/36 [==============================] - 0s 3ms/step - loss: 1.3371 - accuracy: 0.4846 - val_loss: 1.4012 - val_accuracy: 0.4976\n",
      "Epoch 77/100\n",
      "36/36 [==============================] - 0s 3ms/step - loss: 1.3274 - accuracy: 0.4917 - val_loss: 1.3974 - val_accuracy: 0.5095\n",
      "Epoch 78/100\n",
      "36/36 [==============================] - 0s 3ms/step - loss: 1.3245 - accuracy: 0.4947 - val_loss: 1.3909 - val_accuracy: 0.5071\n",
      "Epoch 79/100\n",
      "36/36 [==============================] - 0s 3ms/step - loss: 1.3180 - accuracy: 0.4846 - val_loss: 1.3972 - val_accuracy: 0.4882\n",
      "Epoch 80/100\n",
      "36/36 [==============================] - 0s 3ms/step - loss: 1.3317 - accuracy: 0.4846 - val_loss: 1.4043 - val_accuracy: 0.4905\n",
      "Epoch 81/100\n",
      "36/36 [==============================] - 0s 3ms/step - loss: 1.3229 - accuracy: 0.4875 - val_loss: 1.3881 - val_accuracy: 0.5000\n",
      "Epoch 82/100\n",
      "36/36 [==============================] - 0s 3ms/step - loss: 1.3131 - accuracy: 0.4935 - val_loss: 1.3872 - val_accuracy: 0.4976\n",
      "Epoch 83/100\n",
      "36/36 [==============================] - 0s 3ms/step - loss: 1.3215 - accuracy: 0.4881 - val_loss: 1.3798 - val_accuracy: 0.5047\n",
      "Epoch 84/100\n",
      "36/36 [==============================] - 0s 3ms/step - loss: 1.3122 - accuracy: 0.4893 - val_loss: 1.3890 - val_accuracy: 0.5024\n",
      "Epoch 85/100\n",
      "36/36 [==============================] - 0s 4ms/step - loss: 1.3034 - accuracy: 0.5024 - val_loss: 1.3809 - val_accuracy: 0.5118\n",
      "Epoch 86/100\n",
      "36/36 [==============================] - 0s 3ms/step - loss: 1.2845 - accuracy: 0.4958 - val_loss: 1.3814 - val_accuracy: 0.5095\n",
      "Epoch 87/100\n",
      "36/36 [==============================] - 0s 3ms/step - loss: 1.2728 - accuracy: 0.4964 - val_loss: 1.3776 - val_accuracy: 0.5118\n",
      "Epoch 88/100\n",
      "36/36 [==============================] - 0s 3ms/step - loss: 1.3002 - accuracy: 0.5024 - val_loss: 1.3789 - val_accuracy: 0.5071\n",
      "Epoch 89/100\n",
      "36/36 [==============================] - 0s 3ms/step - loss: 1.2926 - accuracy: 0.5030 - val_loss: 1.3821 - val_accuracy: 0.5000\n",
      "Epoch 90/100\n",
      "36/36 [==============================] - 0s 2ms/step - loss: 1.2828 - accuracy: 0.5006 - val_loss: 1.3753 - val_accuracy: 0.5190\n",
      "Epoch 91/100\n",
      "36/36 [==============================] - 0s 3ms/step - loss: 1.2846 - accuracy: 0.4881 - val_loss: 1.3707 - val_accuracy: 0.5000\n",
      "Epoch 92/100\n",
      "36/36 [==============================] - 0s 4ms/step - loss: 1.2691 - accuracy: 0.5083 - val_loss: 1.3620 - val_accuracy: 0.5000\n",
      "Epoch 93/100\n",
      "36/36 [==============================] - 0s 13ms/step - loss: 1.2830 - accuracy: 0.4917 - val_loss: 1.3527 - val_accuracy: 0.5000\n",
      "Epoch 94/100\n",
      "36/36 [==============================] - 0s 7ms/step - loss: 1.2935 - accuracy: 0.4786 - val_loss: 1.3610 - val_accuracy: 0.4905\n",
      "Epoch 95/100\n",
      "36/36 [==============================] - 0s 5ms/step - loss: 1.2716 - accuracy: 0.4982 - val_loss: 1.3600 - val_accuracy: 0.5142\n",
      "Epoch 96/100\n",
      "36/36 [==============================] - 0s 4ms/step - loss: 1.2750 - accuracy: 0.4947 - val_loss: 1.3701 - val_accuracy: 0.5071\n",
      "Epoch 97/100\n",
      "36/36 [==============================] - 0s 3ms/step - loss: 1.2342 - accuracy: 0.5214 - val_loss: 1.3559 - val_accuracy: 0.5071\n",
      "Epoch 98/100\n",
      "36/36 [==============================] - 0s 4ms/step - loss: 1.2465 - accuracy: 0.5196 - val_loss: 1.3625 - val_accuracy: 0.5047\n",
      "Epoch 99/100\n",
      "36/36 [==============================] - 0s 5ms/step - loss: 1.2524 - accuracy: 0.5053 - val_loss: 1.3436 - val_accuracy: 0.5118\n",
      "Epoch 100/100\n",
      "36/36 [==============================] - 0s 4ms/step - loss: 1.2532 - accuracy: 0.5154 - val_loss: 1.3505 - val_accuracy: 0.5118\n"
     ]
    }
   ],
   "source": [
    "losses = model.fit(X_train, y_train, validation_data=(X_val, y_val), epochs=100, batch_size=48)"
   ]
  },
  {
   "cell_type": "code",
   "execution_count": 18,
   "metadata": {},
   "outputs": [],
   "source": [
    "# Accuracy of the model is really bad, i did change a lot of variables and layers, but it did not change much for the model to be good enough."
   ]
  },
  {
   "cell_type": "code",
   "execution_count": 19,
   "metadata": {},
   "outputs": [
    {
     "data": {
      "text/plain": [
       "<Axes: >"
      ]
     },
     "execution_count": 19,
     "metadata": {},
     "output_type": "execute_result"
    },
    {
     "data": {
      "image/png": "[encoded data removed]",
      "text/plain": [
       "<Figure size 640x480 with 1 Axes>"
      ]
     },
     "metadata": {},
     "output_type": "display_data"
    }
   ],
   "source": [
    "loss_df = pd.DataFrame(losses.history)\n",
    "loss_df.loc[:,['loss','val_loss']].plot()"
   ]
  },
  {
   "cell_type": "code",
   "execution_count": 20,
   "metadata": {},
   "outputs": [],
   "source": [
    "# Source - https://www.geeksforgeeks.org/implementing-neural-networks-using-tensorflow/"
   ]
  },
  {
   "cell_type": "code",
   "execution_count": 21,
   "metadata": {},
   "outputs": [
    {
     "name": "stdout",
     "output_type": "stream",
     "text": [
      "13/13 [==============================] - 0s 1ms/step\n"
     ]
    }
   ],
   "source": [
    "predictions = model.predict(X_test)\n",
    "predictions = np.argmax(predictions, axis=1)"
   ]
  },
  {
   "cell_type": "code",
   "execution_count": 22,
   "metadata": {},
   "outputs": [],
   "source": [
    "output_df = pd.DataFrame({'Team1':df['Team1'][2108:].values, \n",
    "                          'Team2':df['Team2'][2108:].values,\n",
    "                          'Stadium':df['Stadium'][2108:].values,\n",
    "                          'HostCountry':df['HostCountry'][2108:].values,\n",
    "                          'Team1_Venue':df['Team1_Venue'][2108:].values,\n",
    "                          'Team2_Venue':df['Team2_Venue'][2108:].values,\n",
    "                          'Team1_Innings':df['Team1_Innings'][2108:].values,\n",
    "                          'Team2_Innings':df['Team2_Innings'][2108:].values,\n",
    "                          'MonthOfMatch':df['MonthOfMatch'][2108:].values,\n",
    "                          'MatchWinner(Actual)':df['MatchWinner'][2108:].values,\n",
    "                          'MatchWinner(Predicted)': predictions \n",
    "                          })\n",
    "output_df.to_csv('my_submission.csv', index=False)    # to download the csv file of predictions."
   ]
  },
  {
   "cell_type": "code",
   "execution_count": 26,
   "metadata": {},
   "outputs": [
    {
     "name": "stdout",
     "output_type": "stream",
     "text": [
      "              precision    recall  f1-score   support\n",
      "\n",
      "           0       0.00      0.00      0.00         3\n",
      "           1       0.42      0.81      0.56        48\n",
      "           2       0.40      0.36      0.38        11\n",
      "           4       0.48      0.46      0.47        35\n",
      "           5       0.51      0.71      0.60        52\n",
      "           6       0.67      0.33      0.44         6\n",
      "           7       0.00      0.00      0.00         6\n",
      "           8       1.00      0.50      0.67         2\n",
      "           9       0.52      0.38      0.43        40\n",
      "          10       0.44      0.56      0.49        50\n",
      "          11       0.00      0.00      0.00         6\n",
      "          12       0.70      0.37      0.48        38\n",
      "          13       0.54      0.31      0.39        45\n",
      "          14       0.34      0.33      0.34        42\n",
      "          15       0.43      0.19      0.26        16\n",
      "\n",
      "    accuracy                           0.47       400\n",
      "   macro avg       0.43      0.35      0.37       400\n",
      "weighted avg       0.47      0.47      0.45       400\n",
      "\n"
     ]
    }
   ],
   "source": [
    "print(classification_report(y_test, predictions, zero_division=False))"
   ]
  },
  {
   "cell_type": "code",
   "execution_count": 24,
   "metadata": {},
   "outputs": [],
   "source": [
    "# the predictions of the model are really bad as it is sometimes predicted a team to win the match that is not even playing, \n",
    "# maybe i should have went with some binary approach instead of multiclass classification."
   ]
  }
 ],
 "metadata": {
  "kernelspec": {
   "display_name": "Python 3",
   "language": "python",
   "name": "python3"
  },
  "language_info": {
   "codemirror_mode": {
    "name": "ipython",
    "version": 3
   },
   "file_extension": ".py",
   "mimetype": "text/x-python",
   "name": "python",
   "nbconvert_exporter": "python",
   "pygments_lexer": "ipython3",
   "version": "3.11.6"
  }
 },
 "nbformat": 4,
 "nbformat_minor": 2
}
